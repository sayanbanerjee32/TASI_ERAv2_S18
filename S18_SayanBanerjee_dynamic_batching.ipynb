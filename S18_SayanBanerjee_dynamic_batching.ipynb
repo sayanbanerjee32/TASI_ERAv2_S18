{
  "nbformat": 4,
  "nbformat_minor": 0,
  "metadata": {
    "colab": {
      "provenance": [],
      "gpuType": "T4",
      "authorship_tag": "ABX9TyM5J2a813WUDr/yumsbsmrG",
      "include_colab_link": true
    },
    "kernelspec": {
      "name": "python3",
      "display_name": "Python 3"
    },
    "language_info": {
      "name": "python"
    },
    "accelerator": "GPU"
  },
  "cells": [
    {
      "cell_type": "markdown",
      "metadata": {
        "id": "view-in-github",
        "colab_type": "text"
      },
      "source": [
        "<a href=\"https://colab.research.google.com/github/sayanbanerjee32/TASI_ERAv2_S18/blob/main/S18_SayanBanerjee_dynamic_batching.ipynb\" target=\"_parent\"><img src=\"https://colab.research.google.com/assets/colab-badge.svg\" alt=\"Open In Colab\"/></a>"
      ]
    },
    {
      "cell_type": "code",
      "execution_count": 1,
      "metadata": {
        "id": "ZpRLT3tYQpy1"
      },
      "outputs": [],
      "source": [
        "%%capture\n",
        "!pip install tokenizers\n",
        "!pip install torchtext\n",
        "!pip install pytorch_lightning\n",
        "!pip install datasets\n",
        "!pip install tensorboard\n",
        "!pip install more-itertools\n",
        "!pip install lion_pytorch\n",
        "# !pip install torch-lr-finder"
      ]
    },
    {
      "cell_type": "code",
      "source": [
        "# assignment repo\n",
        "!git clone https://github.com/sayanbanerjee32/TASI_ERAv2_S18.git"
      ],
      "metadata": {
        "id": "f4DQxC3xQtFA",
        "colab": {
          "base_uri": "https://localhost:8080/"
        },
        "outputId": "92d4638f-e3db-41c4-eba8-6f5da21f9117"
      },
      "execution_count": 2,
      "outputs": [
        {
          "output_type": "stream",
          "name": "stdout",
          "text": [
            "Cloning into 'TASI_ERAv2_S18'...\n",
            "remote: Enumerating objects: 48, done.\u001b[K\n",
            "remote: Counting objects: 100% (48/48), done.\u001b[K\n",
            "remote: Compressing objects: 100% (46/46), done.\u001b[K\n",
            "remote: Total 48 (delta 26), reused 0 (delta 0), pack-reused 0\u001b[K\n",
            "Receiving objects: 100% (48/48), 22.31 KiB | 11.15 MiB/s, done.\n",
            "Resolving deltas: 100% (26/26), done.\n"
          ]
        }
      ]
    },
    {
      "cell_type": "code",
      "source": [
        "## move python files to outside\n",
        "!mv TASI_ERAv2_S18/*.py ."
      ],
      "metadata": {
        "id": "0NJsUcoOmVuc"
      },
      "execution_count": 3,
      "outputs": []
    },
    {
      "cell_type": "code",
      "source": [
        "from config_file import get_config\n",
        "from train_dynamic_batch import train_model\n",
        "\n",
        "config = get_config()\n",
        "# config[\"batch_size\"] = 64\n",
        "config[\"preload\"] = None\n",
        "# config[\"num_epochs\"] = 10"
      ],
      "metadata": {
        "colab": {
          "base_uri": "https://localhost:8080/"
        },
        "id": "6htKDJF5RWcP",
        "outputId": "e955b483-d2a7-428a-dfcb-ac9c70ef87c0"
      },
      "execution_count": 1,
      "outputs": [
        {
          "output_type": "stream",
          "name": "stderr",
          "text": [
            "/usr/local/lib/python3.10/dist-packages/torchtext/datasets/__init__.py:4: UserWarning: \n",
            "/!\\ IMPORTANT WARNING ABOUT TORCHTEXT STATUS /!\\ \n",
            "Torchtext is deprecated and the last released version will be 0.18 (this one). You can silence this warning by calling the following at the beginnign of your scripts: `import torchtext; torchtext.disable_torchtext_deprecation_warning()`\n",
            "  warnings.warn(torchtext._TORCHTEXT_DEPRECATION_MSG)\n",
            "/usr/local/lib/python3.10/dist-packages/torchtext/data/__init__.py:4: UserWarning: \n",
            "/!\\ IMPORTANT WARNING ABOUT TORCHTEXT STATUS /!\\ \n",
            "Torchtext is deprecated and the last released version will be 0.18 (this one). You can silence this warning by calling the following at the beginnign of your scripts: `import torchtext; torchtext.disable_torchtext_deprecation_warning()`\n",
            "  warnings.warn(torchtext._TORCHTEXT_DEPRECATION_MSG)\n"
          ]
        }
      ]
    },
    {
      "cell_type": "code",
      "source": [
        "train_model(config)"
      ],
      "metadata": {
        "colab": {
          "base_uri": "https://localhost:8080/",
          "height": 918
        },
        "id": "yrluIL3SRmRg",
        "outputId": "e833fc60-697a-4c33-8277-a6e07579106f"
      },
      "execution_count": 12,
      "outputs": [
        {
          "output_type": "stream",
          "name": "stdout",
          "text": [
            "Using device : cuda\n"
          ]
        },
        {
          "output_type": "stream",
          "name": "stderr",
          "text": [
            "/usr/local/lib/python3.10/dist-packages/huggingface_hub/utils/_token.py:89: UserWarning: \n",
            "The secret `HF_TOKEN` does not exist in your Colab secrets.\n",
            "To authenticate with the Hugging Face Hub, create a token in your settings tab (https://huggingface.co/settings/tokens), set it as secret in your Google Colab and restart your session.\n",
            "You will be able to reuse this secret in all of your notebooks.\n",
            "Please note that authentication is recommended but still optional to access public models or datasets.\n",
            "  warnings.warn(\n"
          ]
        },
        {
          "output_type": "stream",
          "name": "stdout",
          "text": [
            "Max length of the source sentence : 309\n",
            "Max length of the target sentence: 274\n"
          ]
        },
        {
          "output_type": "stream",
          "name": "stderr",
          "text": [
            "Processing Epoch 00: 100%|██████████| 910/910 [04:03<00:00,  3.74it/s, loss=6.857,  lr=2.0782589580127505e-05]\n",
            "Processing Epoch 01: 100%|██████████| 910/910 [04:02<00:00,  3.75it/s, loss=5.545,  lr=4.058694218509562e-05]\n",
            "Processing Epoch 02: 100%|██████████| 910/910 [04:02<00:00,  3.75it/s, loss=5.415,  lr=6.039129479006375e-05]\n",
            "Processing Epoch 03: 100%|██████████| 910/910 [04:02<00:00,  3.76it/s, loss=5.391,  lr=8.019564739503187e-05]\n",
            "Processing Epoch 04: 100%|██████████| 910/910 [04:02<00:00,  3.75it/s, loss=4.706,  lr=0.0001]\n",
            "Processing Epoch 05: 100%|██████████| 910/910 [04:02<00:00,  3.75it/s, loss=4.646,  lr=9.230846153846154e-05]\n",
            "Processing Epoch 06: 100%|██████████| 910/910 [04:01<00:00,  3.76it/s, loss=3.934,  lr=8.461692307692308e-05]\n",
            "Processing Epoch 07: 100%|██████████| 910/910 [04:02<00:00,  3.75it/s, loss=3.425,  lr=7.692538461538461e-05]\n",
            "Processing Epoch 08: 100%|██████████| 910/910 [04:03<00:00,  3.74it/s, loss=3.457,  lr=6.924229839391378e-05]\n",
            "Processing Epoch 09: 100%|██████████| 910/910 [04:03<00:00,  3.74it/s, loss=2.974,  lr=6.155075993237532e-05]\n",
            "Processing Epoch 10: 100%|██████████| 910/910 [04:02<00:00,  3.75it/s, loss=2.618,  lr=5.3867673710904485e-05]\n",
            "Processing Epoch 11: 100%|██████████| 910/910 [04:02<00:00,  3.75it/s, loss=2.435,  lr=4.6176135249366014e-05]\n",
            "Processing Epoch 12: 100%|██████████| 910/910 [04:01<00:00,  3.76it/s, loss=2.166,  lr=3.848459678782755e-05]\n",
            "Processing Epoch 13: 100%|██████████| 910/910 [04:00<00:00,  3.78it/s, loss=2.162,  lr=3.0793058326289085e-05]\n",
            "Processing Epoch 14: 100%|██████████| 910/910 [04:02<00:00,  3.75it/s, loss=2.051,  lr=2.3109972104818258e-05]\n",
            "Processing Epoch 15: 100%|██████████| 910/910 [04:01<00:00,  3.77it/s, loss=1.996,  lr=1.5418433643279793e-05]\n",
            "Processing Epoch 16: 100%|██████████| 910/910 [03:59<00:00,  3.80it/s, loss=1.769,  lr=7.726895181741329e-06]\n",
            "Processing Epoch 17: 100%|██████████| 910/910 [03:59<00:00,  3.80it/s, loss=1.687,  lr=4.380896027048791e-08]\n"
          ]
        },
        {
          "output_type": "display_data",
          "data": {
            "text/plain": [
              "<Figure size 640x480 with 1 Axes>"
            ],
            "image/png": "[encoded data removed]"
          },
          "metadata": {}
        }
      ]
    },
    {
      "cell_type": "code",
      "source": [],
      "metadata": {
        "id": "pqhkyDE1eK7h"
      },
      "execution_count": 12,
      "outputs": []
    }
  ]
}